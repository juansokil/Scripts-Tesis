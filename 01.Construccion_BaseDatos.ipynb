{
  "nbformat": 4,
  "nbformat_minor": 0,
  "metadata": {
    "colab": {
      "name": "PROCESAMIENTO_INICIAL.ipynb",
      "version": "0.3.2",
      "provenance": [],
      "collapsed_sections": [],
      "include_colab_link": true
    },
    "kernelspec": {
      "name": "python3",
      "display_name": "Python 3"
    }
  },
  "cells": [
    {
      "cell_type": "markdown",
      "metadata": {
        "id": "view-in-github",
        "colab_type": "text"
      },
      "source": [
        "<a href=\"https://colab.research.google.com/github/juansokil/Scripts-Tesis/blob/master/01.Construccion_BaseDatos.ipynb\" target=\"_parent\"><img src=\"https://colab.research.google.com/assets/colab-badge.svg\" alt=\"Open In Colab\"/></a>"
      ]
    },
    {
      "cell_type": "markdown",
      "metadata": {
        "id": "jNVP3g92RDIU",
        "colab_type": "text"
      },
      "source": [
        "En primera instancia se deben cargar las librerias necesarias para el análisis:\n"
      ]
    },
    {
      "cell_type": "code",
      "metadata": {
        "id": "idNftCFvIsMH",
        "colab_type": "code",
        "colab": {}
      },
      "source": [
        "import csv\n",
        "import os\n",
        "import pandas as pd\n",
        "import numpy as np\n",
        "import matplotlib.pyplot as plt\n"
      ],
      "execution_count": 0,
      "outputs": []
    },
    {
      "cell_type": "markdown",
      "metadata": {
        "id": "VXuDBWpzQ89Z",
        "colab_type": "text"
      },
      "source": [
        "Se debe levantar el archivo. "
      ]
    },
    {
      "cell_type": "code",
      "metadata": {
        "id": "AU1rS-N_G0zr",
        "colab_type": "code",
        "outputId": "36815650-d84c-40e5-f357-c03046256f64",
        "colab": {
          "base_uri": "https://localhost:8080/",
          "height": 204
        }
      },
      "source": [
        "df = pd.read_csv('https://raw.githubusercontent.com/juansokil/Scripts-Tesis/master/bases_genero/scopus001.csv', encoding='latin1')\n",
        "df.columns"
      ],
      "execution_count": 0,
      "outputs": [
        {
          "output_type": "execute_result",
          "data": {
            "text/plain": [
              "Index(['Authors', 'Title', 'Year', 'Source title', 'Volume', 'Issue',\n",
              "       'Art. No.', 'Page start', 'Page end', 'Page count', 'Cited by', 'DOI',\n",
              "       'Link', 'Affiliations', 'Authors with affiliations', 'Abstract',\n",
              "       'Author Keywords', 'Index Keywords', 'Molecular Sequence Numbers',\n",
              "       'Chemicals/CAS', 'Tradenames', 'Manufacturers', 'Funding Details',\n",
              "       'References', 'Correspondence Address', 'Editors', 'Sponsors',\n",
              "       'Publisher', 'Conference name', 'Conference date',\n",
              "       'Conference location', 'Conference code', 'ISSN', 'ISBN', 'CODEN',\n",
              "       'PubMed ID', 'Language of Original Document',\n",
              "       'Abbreviated Source Title', 'Document Type', 'Source', 'EID'],\n",
              "      dtype='object')"
            ]
          },
          "metadata": {
            "tags": []
          },
          "execution_count": 2
        }
      ]
    },
    {
      "cell_type": "markdown",
      "metadata": {
        "id": "z0lYmwfRlQGU",
        "colab_type": "text"
      },
      "source": [
        "Esta es una opcion para iterar sobre un conjunto de archivos csv"
      ]
    },
    {
      "cell_type": "code",
      "metadata": {
        "id": "2sW-eGKtlKKl",
        "colab_type": "code",
        "colab": {}
      },
      "source": [
        "path = ('./bases_genero')\n",
        "files = os.listdir(path)\n",
        "files\n",
        "os.getcwd()\n",
        "\n",
        "df = pd.DataFrame()\n",
        "for f in files:\n",
        "    print(f)\n",
        "    print(1+2)\n",
        "    csv = pd.read_csv(f, encoding='latin1')\n",
        "    print(csv)\n",
        "    df = df.append(csv)"
      ],
      "execution_count": 0,
      "outputs": []
    },
    {
      "cell_type": "code",
      "metadata": {
        "id": "2crBPTVOHDo8",
        "colab_type": "code",
        "colab": {}
      },
      "source": [
        "#Quita duplicados\n",
        "df = df.drop_duplicates(subset='EID', keep='first', inplace=False)\n"
      ],
      "execution_count": 0,
      "outputs": []
    },
    {
      "cell_type": "markdown",
      "metadata": {
        "id": "od7UAgInIt1B",
        "colab_type": "text"
      },
      "source": [
        "Identifico los países, hay dos estrategias de búsqueda"
      ]
    },
    {
      "cell_type": "code",
      "metadata": {
        "id": "Ol-ItSCzIa-o",
        "colab_type": "code",
        "colab": {}
      },
      "source": [
        "####SEPARA ULTIMO ESPACIO - IDENTIFICA PAIS####\n",
        "df['Country'] = df['Authors with affiliations'].str.rsplit(',').str[-1] \n",
        "df['Country2'] = df['Affiliations'].str.rsplit(',').str[-1] "
      ],
      "execution_count": 0,
      "outputs": []
    },
    {
      "cell_type": "code",
      "metadata": {
        "id": "zssbHQCJeck4",
        "colab_type": "code",
        "colab": {}
      },
      "source": [
        "# replace field that's finish with punctuation with nan\n",
        "df['Country']=df['Country'].replace('[.]$', np.nan, regex=True)        \n",
        "df['Country'] = np.where(df['Country'].isnull(), df['Country2'], df['Country'])\n",
        "#df.Cat1 = df.Cat1.fillna(value=df.Cat2)\n",
        "\n",
        "###Elimino aquellos que no tienen abstract\n",
        "df = df.loc[df['Abstract'] !='[No abstract available]']"
      ],
      "execution_count": 0,
      "outputs": []
    },
    {
      "cell_type": "code",
      "metadata": {
        "id": "fMJNHYBXcGJO",
        "colab_type": "code",
        "outputId": "80f50dae-a35a-4dd6-ba72-2715bc23680b",
        "colab": {
          "base_uri": "https://localhost:8080/",
          "height": 375
        }
      },
      "source": [
        "pd.value_counts(df['Country']).plot(kind='bar')\n",
        "\n"
      ],
      "execution_count": 0,
      "outputs": [
        {
          "output_type": "execute_result",
          "data": {
            "text/plain": [
              "<matplotlib.axes._subplots.AxesSubplot at 0x7f8f50046f28>"
            ]
          },
          "metadata": {
            "tags": []
          },
          "execution_count": 6
        },
        {
          "output_type": "display_data",
          "data": {
            "image/png": "[encoded data removed]",
            "text/plain": [
              "<Figure size 432x288 with 1 Axes>"
            ]
          },
          "metadata": {
            "tags": []
          }
        }
      ]
    },
    {
      "cell_type": "code",
      "metadata": {
        "id": "UhNeP_8d3yHs",
        "colab_type": "code",
        "outputId": "338affc4-d83d-4c8e-ce9f-8a7661efc0ec",
        "colab": {
          "base_uri": "https://localhost:8080/",
          "height": 301
        }
      },
      "source": [
        "pd.value_counts(df['Year']).plot(kind='bar')"
      ],
      "execution_count": 0,
      "outputs": [
        {
          "output_type": "execute_result",
          "data": {
            "text/plain": [
              "<matplotlib.axes._subplots.AxesSubplot at 0x7f8f5009a320>"
            ]
          },
          "metadata": {
            "tags": []
          },
          "execution_count": 7
        },
        {
          "output_type": "display_data",
          "data": {
            "image/png": "[encoded data removed]",
            "text/plain": [
              "<Figure size 432x288 with 1 Axes>"
            ]
          },
          "metadata": {
            "tags": []
          }
        }
      ]
    },
    {
      "cell_type": "markdown",
      "metadata": {
        "id": "NI9acfxFoymJ",
        "colab_type": "text"
      },
      "source": [
        "Arma la base final."
      ]
    },
    {
      "cell_type": "code",
      "metadata": {
        "id": "mhwdgiDXJNcE",
        "colab_type": "code",
        "colab": {}
      },
      "source": [
        "base_genero =  df[['Year','Source title','Title','Abstract','EID','Country']]\n",
        "base_genero.columns = ['Año','Revista','Titulo','Resumen','id','Pais']\n"
      ],
      "execution_count": 0,
      "outputs": []
    },
    {
      "cell_type": "markdown",
      "metadata": {
        "id": "RxqmZzM7Z8Zt",
        "colab_type": "text"
      },
      "source": [
        "Por ultimo guardo la base"
      ]
    },
    {
      "cell_type": "code",
      "metadata": {
        "id": "EbU9q7JmJSx5",
        "colab_type": "code",
        "colab": {}
      },
      "source": [
        "base_genero.to_csv('../base_completa/base_completa.csv',  header=True, sep='\\t', encoding='latin1')"
      ],
      "execution_count": 0,
      "outputs": []
    },
    {
      "cell_type": "markdown",
      "metadata": {
        "id": "3Ess9xahIs7q",
        "colab_type": "text"
      },
      "source": [
        ""
      ]
    }
  ]
}