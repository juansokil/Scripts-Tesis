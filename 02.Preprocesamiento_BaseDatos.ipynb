{
  "nbformat": 4,
  "nbformat_minor": 0,
  "metadata": {
    "colab": {
      "name": "02-Preprocesamiento.ipynb",
      "version": "0.3.2",
      "provenance": [],
      "collapsed_sections": [],
      "include_colab_link": true
    },
    "kernelspec": {
      "name": "python3",
      "display_name": "Python 3"
    }
  },
  "cells": [
    {
      "cell_type": "markdown",
      "metadata": {
        "id": "view-in-github",
        "colab_type": "text"
      },
      "source": [
        "<a href=\"https://colab.research.google.com/github/juansokil/Scripts-Tesis/blob/master/02.Preprocesamiento_BaseDatos.ipynb\" target=\"_parent\"><img src=\"https://colab.research.google.com/assets/colab-badge.svg\" alt=\"Open In Colab\"/></a>"
      ]
    },
    {
      "cell_type": "code",
      "metadata": {
        "id": "k2lrC8eJy1vf",
        "colab_type": "code",
        "colab": {}
      },
      "source": [
        "# -*- coding: utf-8 -*-\n",
        "\n",
        "import pandas as pd\n",
        "import numpy as np\n",
        "import re\n",
        "import nltk\n",
        "from pprint import pprint\n",
        "from sklearn.utils import shuffle\n",
        "\n",
        "# spacy for lemmatization\n",
        "import spacy\n",
        "# Initialize spacy 'en' model, keeping only tagger component (for efficiency)\n",
        "nlp = spacy.load('en_core_web_sm')\n",
        "\n",
        "# Gensim\n",
        "import gensim\n",
        "import gensim.corpora as corpora\n",
        "from gensim.utils import simple_preprocess\n",
        "from gensim import models\n",
        "from gensim.corpora import Dictionary\n",
        "from gensim.matutils import hellinger\n",
        "\n",
        "# Enable logging for gensim - optional\n",
        "import logging\n",
        "logging.basicConfig(format='%(asctime)s : %(levelname)s : %(message)s', level=logging.ERROR)\n",
        "import warnings\n",
        "warnings.filterwarnings(\"ignore\",category=DeprecationWarning)\n"
      ],
      "execution_count": 0,
      "outputs": []
    },
    {
      "cell_type": "markdown",
      "metadata": {
        "id": "LG8wSOSsy7aG",
        "colab_type": "text"
      },
      "source": [
        "Levanta los datos - Esta base es la que se terminó exportado en el punto anterior"
      ]
    },
    {
      "cell_type": "code",
      "metadata": {
        "id": "qhU3H-sSzQpI",
        "colab_type": "code",
        "colab": {}
      },
      "source": [
        "\n",
        "base_genero = pd.read_csv(\"https://raw.githubusercontent.com/juansokil/Scripts-Tesis/master/bases_genero/base.csv\", sep='\\t', encoding='latin1')\n",
        "#base_genero = pd.read_csv(\"C:/Users/Juan/Dropbox/POSGRADOS/Uba/99-Tesis/scripts/scripts/base_completa/base.csv\", sep='\\t', encoding='latin1')\n",
        "base_genero = base_genero.set_index('id')\n",
        "\n",
        "\n",
        "###Selecciono una muestra###\n",
        "base_genero=base_genero.sample(n=200, random_state=1)\n"
      ],
      "execution_count": 0,
      "outputs": []
    },
    {
      "cell_type": "code",
      "metadata": {
        "id": "jEexrRctzdje",
        "colab_type": "code",
        "outputId": "e58463a4-3340-4578-bada-4864e89e4a6a",
        "colab": {
          "base_uri": "https://localhost:8080/",
          "height": 1000
        }
      },
      "source": [
        "#pasa a minuscula\n",
        "base_genero['Resumen'] = base_genero['Resumen'].str.lower()\n",
        "#Largo de cada abstract\n",
        "base_genero['Resumen'].str.len()"
      ],
      "execution_count": 86,
      "outputs": [
        {
          "output_type": "execute_result",
          "data": {
            "text/plain": [
              "id\n",
              "2-s2.0-85021819243    1724\n",
              "2-s2.0-84855744244    1451\n",
              "2-s2.0-84917689712    1610\n",
              "2-s2.0-84947927456    1337\n",
              "2-s2.0-33644790108    1146\n",
              "2-s2.0-84885136230     361\n",
              "2-s2.0-33750808244     668\n",
              "2-s2.0-84862928015     924\n",
              "2-s2.0-84874511466     985\n",
              "2-s2.0-84865126985     682\n",
              "2-s2.0-85047916818     867\n",
              "2-s2.0-85037682694    1398\n",
              "2-s2.0-77954102481     715\n",
              "2-s2.0-84919949523    1227\n",
              "2-s2.0-77956104620     800\n",
              "2-s2.0-84898726288    1885\n",
              "2-s2.0-85047794576    1533\n",
              "2-s2.0-84867272021    1117\n",
              "2-s2.0-85015197340    1309\n",
              "2-s2.0-84893702233     920\n",
              "2-s2.0-84925442806    1051\n",
              "2-s2.0-30844458562    1023\n",
              "2-s2.0-37249092683    1046\n",
              "2-s2.0-77952423527     904\n",
              "2-s2.0-22144457005    2097\n",
              "2-s2.0-78651372020     719\n",
              "2-s2.0-85063536792    1792\n",
              "2-s2.0-84901269667     314\n",
              "2-s2.0-84870908672    1388\n",
              "2-s2.0-84897663671     881\n",
              "                      ... \n",
              "2-s2.0-77952484399     716\n",
              "2-s2.0-84946593326     993\n",
              "2-s2.0-85046020381    1054\n",
              "2-s2.0-85058694995    1396\n",
              "2-s2.0-33845907964     952\n",
              "2-s2.0-85012077962    1673\n",
              "2-s2.0-34247654382    1326\n",
              "2-s2.0-84979971374    1460\n",
              "2-s2.0-68249140109    1081\n",
              "2-s2.0-84870185488     686\n",
              "2-s2.0-77952631308    1125\n",
              "2-s2.0-41749084433    1021\n",
              "2-s2.0-84942551786    1075\n",
              "2-s2.0-85061642177     955\n",
              "2-s2.0-85052631588     799\n",
              "2-s2.0-84924675207    1217\n",
              "2-s2.0-85046099276     838\n",
              "2-s2.0-33847284929     778\n",
              "2-s2.0-85052661183    1093\n",
              "2-s2.0-77954096973     793\n",
              "2-s2.0-67650828333    1104\n",
              "2-s2.0-79954540628     917\n",
              "2-s2.0-84859810359    1598\n",
              "2-s2.0-58149131827     887\n",
              "2-s2.0-84916207307     804\n",
              "2-s2.0-78549285689     973\n",
              "2-s2.0-85049566955    1422\n",
              "2-s2.0-84982084270    1240\n",
              "2-s2.0-77956109764    1826\n",
              "2-s2.0-34249654116     729\n",
              "Name: Resumen, Length: 200, dtype: int64"
            ]
          },
          "metadata": {
            "tags": []
          },
          "execution_count": 86
        }
      ]
    },
    {
      "cell_type": "code",
      "metadata": {
        "id": "Q0YKF86DziE-",
        "colab_type": "code",
        "colab": {}
      },
      "source": [
        "\n",
        "##Crea variable titulo + abstract\n",
        "base_genero['Resumen'] = base_genero.Titulo.astype(str).str.cat(base_genero.Resumen.astype(str), sep=' ')\n",
        "base_genero['Resumen'] = base_genero['Resumen'].str.lower()  \n",
        "\n"
      ],
      "execution_count": 0,
      "outputs": []
    },
    {
      "cell_type": "markdown",
      "metadata": {
        "id": "NCiBNfZNzn8l",
        "colab_type": "text"
      },
      "source": [
        "Genero las funciones para procesar el texto"
      ]
    },
    {
      "cell_type": "code",
      "metadata": {
        "id": "uRwfUcIOzrlb",
        "colab_type": "code",
        "colab": {}
      },
      "source": [
        "################FUNCION DE TGOKENIZAR##########\n",
        "def sent_to_words(sentences):\n",
        "    for sentence in sentences:\n",
        "        yield(gensim.utils.simple_preprocess(str(sentence), deacc=True))  # deacc=True removes punctuations\n",
        "\n",
        "################FUNCION DE LEMATIZAR##########\n",
        "def lemmatization(texts, allowed_postags=['NOUN', 'ADJ', 'VERB', 'ADV']):\n",
        "    \"\"\"https://spacy.io/api/annotation\"\"\"\n",
        "    texts_out = []\n",
        "    for sent in texts:\n",
        "        doc = nlp(\" \".join(sent)) \n",
        "        texts_out.append(\" \".join([token.lemma_ if token.lemma_ not in ['-PRON-'] else '' for token in doc if token.pos_ in allowed_postags]))\n",
        "    return texts_out"
      ],
      "execution_count": 0,
      "outputs": []
    },
    {
      "cell_type": "markdown",
      "metadata": {
        "id": "X6myUfeCy7dm",
        "colab_type": "text"
      },
      "source": [
        "Aplico la función de Tokens"
      ]
    },
    {
      "cell_type": "code",
      "metadata": {
        "id": "NKjGOza2zvYz",
        "colab_type": "code",
        "colab": {
          "base_uri": "https://localhost:8080/",
          "height": 54
        },
        "outputId": "baeb1640-f18b-4006-88e0-7ec335ef15fe"
      },
      "source": [
        "\n",
        "###############APLICO LA FUNCION DE TGOKENIZAR###################\n",
        "data_words = list(sent_to_words(base_genero['Resumen']))\n",
        "data_words_se = pd.Series(data_words)\n",
        "#base_genero['data_words'] = data_words_se.values\n",
        "print(data_words[2])\n"
      ],
      "execution_count": 91,
      "outputs": [
        {
          "output_type": "stream",
          "text": [
            "['exploring', 'university', 'studentsa', 'gender', 'role', 'attitudes', 'and', 'their', 'effects', 'on', 'sexuality', 'and', 'behaviour', 'towards', 'hiv', 'aids', 'prevention', 'case', 'study', 'the', 'paper', 'investigated', 'the', 'effects', 'of', 'gender', 'attitudes', 'and', 'the', 'extent', 'to', 'which', 'they', 'impact', 'on', 'the', 'sexuality', 'of', 'third', 'year', 'bachelor', 'degree', 'students', 'in', 'zimbabwean', 'university', 'the', 'goal', 'of', 'the', 'study', 'was', 'to', 'establish', 'their', 'level', 'of', 'awareness', 'to', 'the', 'existing', 'hiv', 'aids', 'preventive', 'measures', 'the', 'study', 'used', 'total', 'sample', 'size', 'of', 'participants', 'selected', 'from', 'four', 'faculties', 'in', 'the', 'university', 'through', 'the', 'gender', 'stratified', 'random', 'sampling', 'technique', 'the', 'design', 'adopted', 'was', 'quantitative', 'case', 'study', 'and', 'data', 'were', 'elicited', 'by', 'means', 'of', 'questionnaires', 'focus', 'group', 'interviews', 'and', 'observations', 'of', 'co', 'curricular', 'activities', 'the', 'analysis', 'of', 'findings', 'followed', 'the', 'use', 'of', 'descriptive', 'and', 'inferential', 'statistics', 'with', 'statistical', 'models', 'such', 'as', 'the', 'chi', 'square', 'test', 'of', 'significance', 'being', 'adopted', 'to', 'establish', 'the', 'studentsa', 'differential', 'gender', 'attitudes', 'towards', 'sexuality', 'and', 'awareness', 'to', 'the', 'existence', 'of', 'hiv', 'aids', 'preventive', 'measures', 'the', 'major', 'findings', 'indicated', 'that', 'the', 'studentsa', 'attitudes', 'towards', 'sexuality', 'were', 'gender', 'based', 'while', 'their', 'awareness', 'to', 'hiv', 'aids', 'preventive', 'strategies', 'was', 'mainly', 'influenced', 'by', 'gender', 'stereotypes', 'and', 'cultural', 'beliefs', 'about', 'femininity', 'and', 'masculinity', 'the', 'study', 'concluded', 'that', 'there', 'is', 'an', 'imperative', 'need', 'for', 'social', 'structures', 'to', 'help', 'deconstruct', 'the', 'gender', 'biases', 'stigmas', 'stereotypes', 'and', 'prejudices', 'that', 'render', 'girls', 'and', 'women', 'vulnerable', 'this', 'can', 'be', 'done', 'through', 'the', 'use', 'of', 'gender', 'neutral', 'discourses', 'and', 'advocacy', 'activities', 'by', 'their', 'lecturers', 'parents', 'teachers', 'as', 'significant', 'others', 'in', 'their', 'society', 'mediterranean', 'center', 'of', 'social', 'and', 'educational', 'research', 'all', 'right', 'reserved']\n"
          ],
          "name": "stdout"
        }
      ]
    },
    {
      "cell_type": "markdown",
      "metadata": {
        "id": "QQCPw3bz6DVs",
        "colab_type": "text"
      },
      "source": [
        "Lematizar los resumenes manteniendo solo: Noun, Adj, Verb, Adverb"
      ]
    },
    {
      "cell_type": "code",
      "metadata": {
        "id": "Mx1nq0gm5umx",
        "colab_type": "code",
        "colab": {
          "base_uri": "https://localhost:8080/",
          "height": 54
        },
        "outputId": "6ef8490f-804f-4981-e0e9-0afc9432ba65"
      },
      "source": [
        "\n",
        "###############APLICO LA FUNCION DE LEMATIZAR###################\n",
        "data_lemmatized = lemmatization(data_words, allowed_postags=['NOUN', 'ADJ', 'VERB', 'ADV'])\n",
        "data_lemmatized_se = pd.Series(data_lemmatized)\n",
        "base_genero['data_lemmatized'] = data_lemmatized_se.values\n",
        "print(data_lemmatized[2])\n"
      ],
      "execution_count": 92,
      "outputs": [
        {
          "output_type": "stream",
          "text": [
            "explore university studentsa gender role attitude effect sexuality behaviour hiv aid prevention case study paper investigate effect gender attitude extent impact sexuality third year bachelor degree student zimbabwean university goal study be establish level awareness exist hiv aid preventive measure study use total sample size participant select faculty university gender stratify random sampling technique design adopt be quantitative case study datum be elicit mean questionnaire focus group interview observation co curricular activity analysis finding follow use descriptive inferential statistic statistical model such chi square test significance be adopt establish studentsa differential gender attitude sexuality awareness existence hiv aid preventive measure major finding indicate studentsa attitude sexuality be gender base awareness hiv aid preventive strategy be mainly influence gender stereotype cultural belief femininity masculinity study conclude there be imperative need social structure help deconstruct gender bias stigma stereotype prejudice render girl woman vulnerable can be do use gender neutral discourse advocacy activity lecturer parent teacher significant other society mediterranean center social educational research right reserve\n"
          ],
          "name": "stdout"
        }
      ]
    },
    {
      "cell_type": "markdown",
      "metadata": {
        "id": "C9CjKZrZz9Ng",
        "colab_type": "text"
      },
      "source": [
        "Importa las Stopwords y agrega las necesarias"
      ]
    },
    {
      "cell_type": "code",
      "metadata": {
        "id": "rly73Q7M0BHQ",
        "colab_type": "code",
        "colab": {}
      },
      "source": [
        "\n",
        "####GENERALES####\n",
        "from spacy.lang.en.stop_words import STOP_WORDS\n",
        "\n",
        "####DOMINIO####\n",
        "stopwords_dominio = ['(c)', 'abstract', 'aim', 'analysis', 'analize', 'approach', 'argue', 'article', 'author', 'authors', \n",
        "                     'background', 'compare', 'conclude', 'conclusion', 'conclusions', 'context', 'copyright', 'data', 'de', \n",
        "                     'dept', 'discuss', 'discussed', 'discussion', 'elsevier', 'emerald', 'examine', 'examined', 'experience', \n",
        "                     'experienced', 'explore', 'finding', 'findings', 'find', 'focus', 'focused', 'franci', 'francis', 'group', \n",
        "                     'hypothesis',  'idea', 'impact', 'implications', 'inc', 'informa', 'information', 'inform', 'interview', \n",
        "                     'introduction', 'journal', 'la', 'limit', 'limitations', 'limited', 'literature', 'llc', 'ltd', \n",
        "                     'materials', 'measure', 'measured', 'methodology', 'method', 'methods', 'model', 'na', 'objective', \n",
        "                     'paper', 'predict', 'prediction', 'present', 'publication', 'publications', 'published', 'publishing', \n",
        "                     'purpose', 'qualitative', 'quantitative', 'related', 'report', 'reported', 'research', 'researched', \n",
        "                     'result', 'results', 'sage', 'sample', 'springer', 'studies', 'study', 'studying', 'suggest', 'survey', \n",
        "                     'taylor', 'theory', 'thesis', 'understand' 'university', 'univ']  \n",
        "\n",
        "\n",
        "####PAISES####\n",
        "stopwords_countries = ['Africa', 'Europe', 'Asia', 'America', 'Oceania', 'Afghanistan',  'Albania',  'Algeria',  'Andorra',  'Angola',  'Antigua and Barbuda',  'Argentina', \n",
        "                       'Armenia',  'Australia',  'Austria',  'Azerbaijan',  'Bahamas',  'Bahrain',  'Bangladesh',  'Barbados',  \n",
        "                       'Belarus',  'Belgium',  'Belize',  'Benin',  'Bhutan',  'Bolivia',  'Bosnia and Herzegovina',  \n",
        "                       'Botswana',  'Brazil',  'Brunei',  'Bulgaria',  'Burkina Faso',  'Burundi',  \"Côte d'Ivoire\",  \n",
        "                       'Cabo Verde',  'Cambodia',  'Cameroon',  'Canada',  'Central African Republic',  'Chad',  'Chile',  \n",
        "                       'China',  'Colombia',  'Comoros',  'Congo (Congo-Brazzaville)',  'Congo Republic', 'Costa Rica',  'Croatia',  'Cuba',  'Cyprus',  'Czechia',  'Democratic Republic of the Congo',  'Denmark',  'Djibouti',  'Dominica',  'Dominican Republic',  'Ecuador',  'Egypt',  'El Salvador',  'Equatorial Guinea',  'Eritrea',  'Estonia',  'Ethiopia',  'Fiji',  'Finland',  'France',  'Gabon',  'Gambia',  'Georgia',  'Germany',  'Ghana',  'Greece',  'Grenada',  'Guatemala',  'Guinea',  'Guinea-Bissau',  'Guyana',  'Haiti',  'Holy See',  'Honduras',  'Hungary',  'Iceland',  'India',  'Indonesia',  'Iran',  'Iraq',  'Ireland',  'Israel',  'Italy',  'Jamaica',  'Japan',  'Jordan',  'Kazakhstan',  'Kenya',  'Kiribati',  'Kuwait',  'Kyrgyzstan',  'Laos',  'Latvia',  'Lebanon',  'Lesotho',  'Liberia',  'Libya',  'Liechtenstein',  'Lithuania',  'Luxembourg',  'Madagascar',  'Malawi',  'Malaysia',  'Maldives',  'Mali',  'Malta',  'Marshall Islands',  'Mauritania',  'Mauritius',  'Mexico',  'Micronesia',  'Moldova',  'Monaco',  'Mongolia',  'Montenegro',  'Morocco',  'Mozambique',  'Myanmar (formerly Burma)',  'Namibia',  'Nauru',  'Nepal',  'Netherlands',  'New Zealand',  'Nicaragua',  'Niger',  'Nigeria',  'North Korea',  'North Macedonia',  'Norway',  'Oman',  'Pakistan',  'Palau',  'Palestine State',  'Panama',  'Papua New Guinea',  'Paraguay',  'Peru',  'Philippines',  'Poland',  'Portugal',  'Qatar',  'Romania',  'Russia',  'Rwanda',  'Saint Kitts and Nevis',  'Saint Lucia',  'Saint Vincent and the Grenadines',  'Samoa',  'San Marino',  'Sao Tome and Principe',  'Saudi Arabia',  'Senegal',  'Serbia',  'Seychelles',  'Sierra Leone',  'Singapore',  'Slovakia',  'Slovenia',  'Solomon Islands',  'Somalia',  'South Africa',  'South Korea',  'South Sudan',  'Spain',  'Sri Lanka',  'Sudan',  'Suriname',  'Swaziland',  'Sweden',  'Switzerland',  'Syria',  'Tajikistan',  'Tanzania',  'Thailand',  'Timor-Leste',  'Togo',  'Tonga',  'Trinidad and Tobago',  'Tunisia',  'Turkey',  'Turkmenistan',  'Tuvalu',  'Uganda',  'Ukraine',  'United Arab Emirates',  'United Kingdom',  'United States of America',  'Uruguay',  'Uzbekistan',  'Vanuatu',  'Venezuela',  'Vietnam',  'Yemen',  'Zambia',  'Zimbabwe']  \n",
        "\n",
        "\n",
        "for word in stopwords_dominio:\n",
        "    STOP_WORDS.add(word)\n",
        "\n",
        "for word in stopwords_countries:\n",
        "    STOP_WORDS.add(word)\n",
        "    \n",
        "    \n",
        "base_genero['data_lemmatized_stopwords'] = base_genero['data_lemmatized'].apply(lambda x: ' '.join([word for word in x.split() if word not in (STOP_WORDS)]))\n"
      ],
      "execution_count": 0,
      "outputs": []
    },
    {
      "cell_type": "code",
      "metadata": {
        "id": "F3yaMnzG0MCR",
        "colab_type": "code",
        "outputId": "b9b0112c-58ed-43a8-e252-b4d77fc8320d",
        "colab": {
          "base_uri": "https://localhost:8080/",
          "height": 320
        }
      },
      "source": [
        "base_genero.head()"
      ],
      "execution_count": 94,
      "outputs": [
        {
          "output_type": "execute_result",
          "data": {
            "text/html": [
              "<div>\n",
              "<style scoped>\n",
              "    .dataframe tbody tr th:only-of-type {\n",
              "        vertical-align: middle;\n",
              "    }\n",
              "\n",
              "    .dataframe tbody tr th {\n",
              "        vertical-align: top;\n",
              "    }\n",
              "\n",
              "    .dataframe thead th {\n",
              "        text-align: right;\n",
              "    }\n",
              "</style>\n",
              "<table border=\"1\" class=\"dataframe\">\n",
              "  <thead>\n",
              "    <tr style=\"text-align: right;\">\n",
              "      <th></th>\n",
              "      <th>Año</th>\n",
              "      <th>Revista</th>\n",
              "      <th>Titulo</th>\n",
              "      <th>Resumen</th>\n",
              "      <th>Tipo</th>\n",
              "      <th>Pais</th>\n",
              "      <th>data_lemmatized</th>\n",
              "      <th>data_lemmatized_stopwords</th>\n",
              "    </tr>\n",
              "    <tr>\n",
              "      <th>id</th>\n",
              "      <th></th>\n",
              "      <th></th>\n",
              "      <th></th>\n",
              "      <th></th>\n",
              "      <th></th>\n",
              "      <th></th>\n",
              "      <th></th>\n",
              "      <th></th>\n",
              "    </tr>\n",
              "  </thead>\n",
              "  <tbody>\n",
              "    <tr>\n",
              "      <th>2-s2.0-85021819243</th>\n",
              "      <td>2017</td>\n",
              "      <td>Asian Women</td>\n",
              "      <td>Advocating policy interests in local politics:...</td>\n",
              "      <td>advocating policy interests in local politics:...</td>\n",
              "      <td>Article</td>\n",
              "      <td>Japan</td>\n",
              "      <td>advocate policy interest local politic woman s...</td>\n",
              "      <td>advocate policy interest local politic woman s...</td>\n",
              "    </tr>\n",
              "    <tr>\n",
              "      <th>2-s2.0-84855744244</th>\n",
              "      <td>2012</td>\n",
              "      <td>International Journal of Entrepreneurial Behav...</td>\n",
              "      <td>Gender and business ownership: Questioning â...</td>\n",
              "      <td>gender and business ownership: questioning â...</td>\n",
              "      <td>Article</td>\n",
              "      <td>United States</td>\n",
              "      <td>gender business ownership question whata whya ...</td>\n",
              "      <td>gender business ownership question whata whya ...</td>\n",
              "    </tr>\n",
              "    <tr>\n",
              "      <th>2-s2.0-84917689712</th>\n",
              "      <td>2014</td>\n",
              "      <td>Mediterranean Journal of Social Sciences</td>\n",
              "      <td>Exploring university studentsâ gender role a...</td>\n",
              "      <td>exploring university studentsâ gender role a...</td>\n",
              "      <td>Article</td>\n",
              "      <td>South Africa</td>\n",
              "      <td>explore university studentsa gender role attit...</td>\n",
              "      <td>university studentsa gender role attitude effe...</td>\n",
              "    </tr>\n",
              "    <tr>\n",
              "      <th>2-s2.0-84947927456</th>\n",
              "      <td>2015</td>\n",
              "      <td>Comparative Social Research</td>\n",
              "      <td>Two sides of the same coin? Applied and genera...</td>\n",
              "      <td>two sides of the same coin? applied and genera...</td>\n",
              "      <td>Article</td>\n",
              "      <td>Canada</td>\n",
              "      <td>side same coin apply general high education ge...</td>\n",
              "      <td>coin apply general high education gender strat...</td>\n",
              "    </tr>\n",
              "    <tr>\n",
              "      <th>2-s2.0-33644790108</th>\n",
              "      <td>2006</td>\n",
              "      <td>Violence and Victims</td>\n",
              "      <td>Influence of gender and experience on college ...</td>\n",
              "      <td>influence of gender and experience on college ...</td>\n",
              "      <td>Article</td>\n",
              "      <td>United States</td>\n",
              "      <td>influence gender experience college student st...</td>\n",
              "      <td>influence gender college student stalk schema ...</td>\n",
              "    </tr>\n",
              "  </tbody>\n",
              "</table>\n",
              "</div>"
            ],
            "text/plain": [
              "                     Año  ...                          data_lemmatized_stopwords\n",
              "id                        ...                                                   \n",
              "2-s2.0-85021819243  2017  ...  advocate policy interest local politic woman s...\n",
              "2-s2.0-84855744244  2012  ...  gender business ownership question whata whya ...\n",
              "2-s2.0-84917689712  2014  ...  university studentsa gender role attitude effe...\n",
              "2-s2.0-84947927456  2015  ...  coin apply general high education gender strat...\n",
              "2-s2.0-33644790108  2006  ...  influence gender college student stalk schema ...\n",
              "\n",
              "[5 rows x 8 columns]"
            ]
          },
          "metadata": {
            "tags": []
          },
          "execution_count": 94
        }
      ]
    },
    {
      "cell_type": "markdown",
      "metadata": {
        "id": "zkq2j8yQ0bUp",
        "colab_type": "text"
      },
      "source": [
        "Ya tengo el campo de texto preprocesado, ahora vuelvo a ejecutar el procedimiento final"
      ]
    },
    {
      "cell_type": "code",
      "metadata": {
        "id": "ZGrGD2Pv0jTs",
        "colab_type": "code",
        "colab": {}
      },
      "source": [
        "\n",
        "######################EN ESTE PASO VUELVO A HACER LA TOKENIZACION CON LOS DATOS FINALES#########\n",
        "data_words = list(sent_to_words(base_genero['data_lemmatized_stopwords']))\n",
        "\n",
        "\n",
        "###################### CONSTRUCCION DE N-GRAMAS#######\n",
        "bigram = gensim.models.Phrases(data_words, min_count=5, threshold=0.1) # higher threshold fewer phrases.\n",
        "trigram = gensim.models.Phrases(bigram[data_words], threshold=0.075)  \n",
        "cuatrigram = gensim.models.Phrases(trigram[bigram[data_words]], threshold=0.05)  \n",
        "\n",
        "# Faster way to get a sentence clubbed as a trigram/bigram\n",
        "bigram_mod = gensim.models.phrases.Phraser(bigram)\n",
        "trigram_mod = gensim.models.phrases.Phraser(trigram)\n",
        "cuatrigram_mod = gensim.models.phrases.Phraser(cuatrigram)\n",
        "\n",
        "def make_bigrams(texts):\n",
        "    return [bigram_mod[doc] for doc in texts]\n",
        "\n",
        "def make_trigrams(texts):\n",
        "    return [trigram_mod[bigram_mod[doc]] for doc in texts]\n",
        "\n",
        "def make_cuatrigrams(texts):\n",
        "    return [cuatrigram_mod[trigram_mod[bigram_mod[doc]]] for doc in texts]\n",
        "\n",
        "\n",
        "  # Form Trigrams\n",
        "make_cuatrigrams = make_cuatrigrams(data_words)\n"
      ],
      "execution_count": 0,
      "outputs": []
    },
    {
      "cell_type": "markdown",
      "metadata": {
        "id": "vvnikpKrEpTB",
        "colab_type": "text"
      },
      "source": [
        "Puedo listar uno de los casos para ver las palabras que tiene:"
      ]
    },
    {
      "cell_type": "code",
      "metadata": {
        "id": "R91F2kV_Eu0Z",
        "colab_type": "code",
        "colab": {
          "base_uri": "https://localhost:8080/",
          "height": 71
        },
        "outputId": "9a16f786-b599-4a72-97f1-d7e947dc9483"
      },
      "source": [
        "print('Cantidad de palabras: ', len(make_cuatrigrams[2]))\n",
        "print(make_cuatrigrams[2])"
      ],
      "execution_count": 95,
      "outputs": [
        {
          "output_type": "stream",
          "text": [
            "Cantidad de palabras:  115\n",
            "['university', 'gender_role', 'attitude', 'effect', 'sexuality', 'behaviour', 'hiv', 'aid', 'prevention', 'case', 'investigate', 'effect_gender', 'attitude', 'extent', 'sexuality', 'year', 'bachelor', 'degree', 'student', 'zimbabwean', 'university', 'goal', 'establish', 'level', 'awareness', 'exist', 'hiv', 'aid', 'preventive', 'use', 'total', 'size', 'participant', 'select', 'faculty', 'university', 'stratify', 'random', 'sampling', 'technique', 'design', 'adopt', 'case', 'datum', 'elicit', 'mean', 'questionnaire', 'observation', 'co', 'curricular', 'activity', 'follow', 'use', 'descriptive', 'inferential', 'statistic', 'statistical', 'chi', 'square', 'test', 'significance', 'adopt', 'establish', 'differential', 'attitude', 'sexuality', 'awareness', 'existence', 'hiv', 'aid', 'preventive', 'major', 'indicate', 'attitude', 'sexuality', 'base', 'awareness', 'hiv', 'aid', 'preventive', 'strategy', 'mainly', 'influence', 'gender_stereotype', 'cultural', 'belief', 'femininity', 'masculinity', 'imperative', 'need', 'structure', 'help', 'deconstruct', 'gender_bias', 'stigma', 'stereotype', 'prejudice', 'render', 'girl', 'vulnerable', 'use', 'gender_neutral', 'discourse', 'advocacy', 'activity', 'lecturer', 'parent', 'teacher', 'significant', 'society', 'mediterranean', 'center', 'social', 'educational', 'right_reserve']\n"
          ],
          "name": "stdout"
        }
      ]
    },
    {
      "cell_type": "markdown",
      "metadata": {
        "id": "9e_KGdaOEdvK",
        "colab_type": "text"
      },
      "source": [
        "Elimina los tokens generales que aparecen en mas del 20% de las publicaciones - Esto es una decisión teórica para no ensuciar los resultados posteriores"
      ]
    },
    {
      "cell_type": "code",
      "metadata": {
        "id": "TyaWKecSD03g",
        "colab_type": "code",
        "colab": {}
      },
      "source": [
        "for i in range(len(make_cuatrigrams)):\n",
        "  #print('Antes: ',len(make_cuatrigrams[i]))\n",
        "  if 'gender' in make_cuatrigrams[i]:\n",
        "    #print('Si')\n",
        "    make_cuatrigrams[i].remove('gender')\n",
        "  if 'woman' in make_cuatrigrams[i]:\n",
        "    #print('Si')\n",
        "    make_cuatrigrams[i].remove('woman')\n",
        "  if 'female' in make_cuatrigrams[i]:\n",
        "    #print('Si')\n",
        "    make_cuatrigrams[i].remove('female')\n",
        "  if 'social' in make_cuatrigrams[i]:\n",
        "    #print('Si')\n",
        "    make_cuatrigrams[i].remove('social')\n",
        "  if 'difference' in make_cuatrigrams[i]:\n",
        "    #print('Si')\n",
        "    make_cuatrigrams[i].remove('difference')\n",
        "  #print('Despues: ',len(make_cuatrigrams[i]))    \n",
        " "
      ],
      "execution_count": 0,
      "outputs": []
    },
    {
      "cell_type": "markdown",
      "metadata": {
        "id": "5wvkd7upE-TH",
        "colab_type": "text"
      },
      "source": [
        "Una vez que limpio las palabras muy frecuentes puedo ver las diferencias"
      ]
    },
    {
      "cell_type": "code",
      "metadata": {
        "id": "s1I-6cqVE_uY",
        "colab_type": "code",
        "colab": {
          "base_uri": "https://localhost:8080/",
          "height": 71
        },
        "outputId": "a3425edf-e54b-46d4-bcbc-cb6380e7f472"
      },
      "source": [
        "print('Cantidad de palabras: ', len(make_cuatrigrams[2]))\n",
        "print(make_cuatrigrams[2])"
      ],
      "execution_count": 98,
      "outputs": [
        {
          "output_type": "stream",
          "text": [
            "Cantidad de palabras:  114\n",
            "['university', 'gender_role', 'attitude', 'effect', 'sexuality', 'behaviour', 'hiv', 'aid', 'prevention', 'case', 'investigate', 'effect_gender', 'attitude', 'extent', 'sexuality', 'year', 'bachelor', 'degree', 'student', 'zimbabwean', 'university', 'goal', 'establish', 'level', 'awareness', 'exist', 'hiv', 'aid', 'preventive', 'use', 'total', 'size', 'participant', 'select', 'faculty', 'university', 'stratify', 'random', 'sampling', 'technique', 'design', 'adopt', 'case', 'datum', 'elicit', 'mean', 'questionnaire', 'observation', 'co', 'curricular', 'activity', 'follow', 'use', 'descriptive', 'inferential', 'statistic', 'statistical', 'chi', 'square', 'test', 'significance', 'adopt', 'establish', 'differential', 'attitude', 'sexuality', 'awareness', 'existence', 'hiv', 'aid', 'preventive', 'major', 'indicate', 'attitude', 'sexuality', 'base', 'awareness', 'hiv', 'aid', 'preventive', 'strategy', 'mainly', 'influence', 'gender_stereotype', 'cultural', 'belief', 'femininity', 'masculinity', 'imperative', 'need', 'structure', 'help', 'deconstruct', 'gender_bias', 'stigma', 'stereotype', 'prejudice', 'render', 'girl', 'vulnerable', 'use', 'gender_neutral', 'discourse', 'advocacy', 'activity', 'lecturer', 'parent', 'teacher', 'significant', 'society', 'mediterranean', 'center', 'educational', 'right_reserve']\n"
          ],
          "name": "stdout"
        }
      ]
    },
    {
      "cell_type": "code",
      "metadata": {
        "id": "p1HrpNfdD2d6",
        "colab_type": "code",
        "colab": {}
      },
      "source": [
        "### Creo una variable que se llama n-gramas\n",
        "make_cuatrigrams_se = pd.Series(make_cuatrigrams)\n",
        "base_genero['ngramas'] = make_cuatrigrams_se.values"
      ],
      "execution_count": 0,
      "outputs": []
    },
    {
      "cell_type": "markdown",
      "metadata": {
        "id": "bjDoOjQL09T5",
        "colab_type": "text"
      },
      "source": [
        "Miro el diccionario"
      ]
    },
    {
      "cell_type": "code",
      "metadata": {
        "id": "a8dj4Oc70-tB",
        "colab_type": "code",
        "outputId": "f654c2f7-0483-452e-92a6-d5127a69ed87",
        "colab": {
          "base_uri": "https://localhost:8080/",
          "height": 1000
        }
      },
      "source": [
        "\n",
        "##################################PASOS DICCIONARIO########################\n",
        "# Create Dictionary\n",
        "id2word = corpora.Dictionary(base_genero['ngramas'])\n",
        "print('Diccionario Inicial: ', len(id2word))\n",
        "\n",
        "id2word.filter_extremes(no_below=5)\n",
        "id2word.compactify()\n",
        "print('Diccionario Filtrado: ', len(id2word))\n",
        "\n",
        "\n",
        "# Create Corpus\n",
        "texts = base_genero['ngramas']\n",
        "# Term Document Frequency - Diccionario\n",
        "corpus = [id2word.doc2bow(text) for text in texts]\n",
        "\n",
        "# Human readable format of corpus (term-frequency)\n",
        "[[(id2word[id], freq) for id, freq in cp] for cp in corpus[2:3]]"
      ],
      "execution_count": 102,
      "outputs": [
        {
          "output_type": "stream",
          "text": [
            "Diccionario Inicial:  4008\n",
            "Diccionario Filtrado:  645\n"
          ],
          "name": "stdout"
        },
        {
          "output_type": "execute_result",
          "data": {
            "text/plain": [
              "[[('case', 2),\n",
              "  ('exist', 1),\n",
              "  ('investigate', 1),\n",
              "  ('use', 3),\n",
              "  ('effect', 1),\n",
              "  ('effect_gender', 1),\n",
              "  ('indicate', 1),\n",
              "  ('activity', 2),\n",
              "  ('adopt', 2),\n",
              "  ('attitude', 4),\n",
              "  ('awareness', 3),\n",
              "  ('base', 1),\n",
              "  ('behaviour', 1),\n",
              "  ('belief', 1),\n",
              "  ('center', 1),\n",
              "  ('cultural', 1),\n",
              "  ('datum', 1),\n",
              "  ('degree', 1),\n",
              "  ('design', 1),\n",
              "  ('discourse', 1),\n",
              "  ('educational', 1),\n",
              "  ('establish', 2),\n",
              "  ('extent', 1),\n",
              "  ('faculty', 1),\n",
              "  ('femininity', 1),\n",
              "  ('follow', 1),\n",
              "  ('gender_bias', 1),\n",
              "  ('gender_role', 1),\n",
              "  ('gender_stereotype', 1),\n",
              "  ('girl', 1),\n",
              "  ('help', 1),\n",
              "  ('hiv', 4),\n",
              "  ('influence', 1),\n",
              "  ('level', 1),\n",
              "  ('major', 1),\n",
              "  ('masculinity', 1),\n",
              "  ('need', 1),\n",
              "  ('observation', 1),\n",
              "  ('parent', 1),\n",
              "  ('participant', 1),\n",
              "  ('prevention', 1),\n",
              "  ('questionnaire', 1),\n",
              "  ('right_reserve', 1),\n",
              "  ('select', 1),\n",
              "  ('sexuality', 4),\n",
              "  ('significance', 1),\n",
              "  ('significant', 1),\n",
              "  ('size', 1),\n",
              "  ('society', 1),\n",
              "  ('statistical', 1),\n",
              "  ('stereotype', 1),\n",
              "  ('strategy', 1),\n",
              "  ('structure', 1),\n",
              "  ('student', 1),\n",
              "  ('teacher', 1),\n",
              "  ('technique', 1),\n",
              "  ('test', 1),\n",
              "  ('total', 1),\n",
              "  ('university', 3),\n",
              "  ('vulnerable', 1),\n",
              "  ('year', 1)]]"
            ]
          },
          "metadata": {
            "tags": []
          },
          "execution_count": 102
        }
      ]
    },
    {
      "cell_type": "markdown",
      "metadata": {
        "id": "uyBsdBuLy6cG",
        "colab_type": "text"
      },
      "source": [
        ""
      ]
    }
  ]
}