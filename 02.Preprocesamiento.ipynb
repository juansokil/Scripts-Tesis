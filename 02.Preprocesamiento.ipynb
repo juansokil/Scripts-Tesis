{
  "nbformat": 4,
  "nbformat_minor": 0,
  "metadata": {
    "colab": {
      "name": "02-Preprocesamiento.ipynb",
      "version": "0.3.2",
      "provenance": [],
      "include_colab_link": true
    },
    "kernelspec": {
      "name": "python3",
      "display_name": "Python 3"
    }
  },
  "cells": [
    {
      "cell_type": "markdown",
      "metadata": {
        "id": "view-in-github",
        "colab_type": "text"
      },
      "source": [
        "<a href=\"https://colab.research.google.com/github/juansokil/Scripts-Tesis/blob/master/02.Preprocesamiento.ipynb\" target=\"_parent\"><img src=\"https://colab.research.google.com/assets/colab-badge.svg\" alt=\"Open In Colab\"/></a>"
      ]
    },
    {
      "cell_type": "code",
      "metadata": {
        "id": "78abfMA1dKiQ",
        "colab_type": "code",
        "colab": {}
      },
      "source": [
        "import csv\n",
        "import os\n",
        "import pandas as pd\n",
        "import numpy as np\n",
        "import matplotlib.pyplot as plt\n",
        "import re, nltk, spacy, gensim\n",
        "\n",
        "nlp = spacy.load('en_core_web_sm')\n"
      ],
      "execution_count": 0,
      "outputs": []
    },
    {
      "cell_type": "markdown",
      "metadata": {
        "id": "4Vl7VFswfN3F",
        "colab_type": "text"
      },
      "source": [
        "Esta base es la que se terminó exportado en el punto anterior"
      ]
    },
    {
      "cell_type": "code",
      "metadata": {
        "id": "u_06A669e6ip",
        "colab_type": "code",
        "colab": {
          "base_uri": "https://localhost:8080/",
          "height": 34
        },
        "outputId": "75b0f0c6-1ba5-4f20-d083-d22b494c1600"
      },
      "source": [
        "base = pd.read_csv('https://raw.githubusercontent.com/juansokil/Scripts-Tesis/master/bases_genero/base.csv', encoding='latin1')\n",
        "base.columns"
      ],
      "execution_count": 6,
      "outputs": [
        {
          "output_type": "execute_result",
          "data": {
            "text/plain": [
              "Index(['Unnamed: 0', 'Año', 'Revista', 'Titulo', 'Resumen', 'id', 'Pais'], dtype='object')"
            ]
          },
          "metadata": {
            "tags": []
          },
          "execution_count": 6
        }
      ]
    },
    {
      "cell_type": "code",
      "metadata": {
        "id": "I0bz-m2mfUTs",
        "colab_type": "code",
        "colab": {}
      },
      "source": [
        "#pasa a minuscula\n",
        "base['Resumen'] = base['Resumen'].str.lower()\n",
        "#Largo de cada abstract\n",
        "base['Resumen'].str.len()"
      ],
      "execution_count": 0,
      "outputs": []
    },
    {
      "cell_type": "code",
      "metadata": {
        "id": "m7th2wRwf3AB",
        "colab_type": "code",
        "colab": {}
      },
      "source": [
        "##Crea variable titulo + abstract\n",
        "base['Resumen_ok'] = base.Titulo.astype(str).str.cat(base.Resumen.astype(str), sep=' ')\n",
        "base['Resumen_ok'] = base['Resumen_ok'].str.lower()  "
      ],
      "execution_count": 0,
      "outputs": []
    },
    {
      "cell_type": "markdown",
      "metadata": {
        "id": "VTMaJXuRgQO9",
        "colab_type": "text"
      },
      "source": [
        "Ya esta todo preparado para la tokenización"
      ]
    },
    {
      "cell_type": "code",
      "metadata": {
        "id": "140HbYRTgKom",
        "colab_type": "code",
        "colab": {}
      },
      "source": [
        "####### TGOKENIZAR####\n",
        "def sent_to_words(sentences):\n",
        "    for sentence in sentences:\n",
        "        yield(gensim.utils.simple_preprocess(str(sentence), deacc=True))  # deacc=True removes punctuations\n",
        "\n",
        "####LEMATIZAR######\n",
        "def lemmatization(texts, allowed_postags=['NOUN', 'ADJ', 'VERB', 'ADV']):\n",
        "    \"\"\"https://spacy.io/api/annotation\"\"\"\n",
        "    texts_out = []\n",
        "    for sent in texts:\n",
        "        doc = nlp(\" \".join(sent)) \n",
        "        texts_out.append(\" \".join([token.lemma_ if token.lemma_ not in ['-PRON-'] else '' for token in doc if token.pos_ in allowed_postags]))\n",
        "    return texts_out\n",
        "  "
      ],
      "execution_count": 0,
      "outputs": []
    },
    {
      "cell_type": "markdown",
      "metadata": {
        "id": "CavkVtZQi9lF",
        "colab_type": "text"
      },
      "source": [
        "Tokenizar"
      ]
    },
    {
      "cell_type": "code",
      "metadata": {
        "id": "0NYrz7cfiR7r",
        "colab_type": "code",
        "colab": {
          "base_uri": "https://localhost:8080/",
          "height": 54
        },
        "outputId": "7e5331c0-2f10-46c9-e228-8972fc60054d"
      },
      "source": [
        "data_words = list(sent_to_words(base['Resumen_ok']))\n",
        "print(data_words[:1])\n"
      ],
      "execution_count": 17,
      "outputs": [
        {
          "output_type": "stream",
          "text": [
            "[['institutional', 'compatibility', 'and', 'the', 'diffusion', 'of', 'best', 'practices', 'human', 'resource', 'management', 'in', 'foreign', 'invested', 'enterprises', 'in', 'china', 'we', 'advance', 'the', 'literature', 'on', 'global', 'diffusion', 'currently', 'dominated', 'by', 'the', 'world', 'polity', 'theory', 'by', 'examining', 'how', 'the', 'local', 'institutional', 'environment', 'shapes', 'the', 'diffusion', 'of', 'global', 'best', 'practices', 'we', 'argue', 'that', 'global', 'best', 'practices', 'that', 'are', 'more', 'compatible', 'with', 'the', 'local', 'institutional', 'environment', 'are', 'more', 'likely', 'to', 'be', 'adopted', 'by', 'local', 'actors', 'and', 'that', 'they', 'also', 'exert', 'greater', 'positive', 'impact', 'on', 'the', 'adopters', 'in', 'contrast', 'to', 'existing', 'research', 'that', 'typically', 'focuses', 'on', 'single', 'policy', 'or', 'structure', 'we', 'collected', 'original', 'data', 'on', 'the', 'diffusion', 'of', 'twenty', 'five', 'human', 'resource', 'management', 'best', 'practices', 'in', 'foreign', 'invested', 'enterprises', 'in', 'china', 'our', 'analysis', 'shows', 'considerable', 'variation', 'in', 'the', 'adoption', 'level', 'across', 'practices', 'much', 'of', 'which', 'is', 'attributable', 'to', 'their', 'different', 'levels', 'of', 'compatibility', 'with', 'china', 'local', 'institutional', 'environment', 'furthermore', 'we', 'find', 'that', 'adopting', 'more', 'compatible', 'practices', 'indeed', 'makes', 'greater', 'contribution', 'to', 'organizational', 'performance', 'copyright', 'taylor', 'francis', 'group', 'llc']]\n"
          ],
          "name": "stdout"
        }
      ]
    },
    {
      "cell_type": "markdown",
      "metadata": {
        "id": "jPEAOEeijBDt",
        "colab_type": "text"
      },
      "source": [
        "\n",
        "Lematizar los resumenes manteniendo solo: Noun, Adj, Verb, Adverb\n"
      ]
    },
    {
      "cell_type": "code",
      "metadata": {
        "id": "YSGrATjWjFtt",
        "colab_type": "code",
        "colab": {
          "base_uri": "https://localhost:8080/",
          "height": 54
        },
        "outputId": "cea84772-34d4-4335-95c3-0a016d384589"
      },
      "source": [
        "data_lemmatized = lemmatization(data_words, allowed_postags=['NOUN', 'ADJ', 'VERB', 'ADV'])\n",
        "print(data_lemmatized[:1])\n",
        "\n",
        "##Creo una variable en el dataset y lo agrego\n",
        "se = pd.Series(data_lemmatized)\n",
        "base['Resumen_lematizado'] = se.values"
      ],
      "execution_count": 19,
      "outputs": [
        {
          "output_type": "stream",
          "text": [
            "['institutional compatibility diffusion good practice human resource management foreign invest enterprise china advance literature global diffusion currently dominate world polity theory examine how local institutional environment shape diffusion global good practice argue global good practice that be more compatible local institutional environment be more likely be adopt local actor also exert great positive impact adopter contrast exist research that typically focus single policy structure collect original datum diffusion human resource management good practice foreign invest enterprise china  analysis show considerable variation adoption level practice much which be attributable  different level compatibility china local institutional environment furthermore find adopt more compatible practice indeed make great contribution organizational performance copyright taylor francis group llc']\n"
          ],
          "name": "stdout"
        }
      ]
    },
    {
      "cell_type": "markdown",
      "metadata": {
        "id": "nhKr2pFYjdF2",
        "colab_type": "text"
      },
      "source": [
        ""
      ]
    },
    {
      "cell_type": "markdown",
      "metadata": {
        "id": "tQr9yt6RgO8k",
        "colab_type": "text"
      },
      "source": [
        ""
      ]
    },
    {
      "cell_type": "code",
      "metadata": {
        "id": "GwqfSC0sj0Kt",
        "colab_type": "code",
        "colab": {}
      },
      "source": [
        ""
      ],
      "execution_count": 0,
      "outputs": []
    }
  ]
}